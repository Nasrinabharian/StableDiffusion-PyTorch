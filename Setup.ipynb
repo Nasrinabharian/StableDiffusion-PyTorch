{
 "cells": [
  {
   "cell_type": "code",
   "execution_count": 2,
   "id": "7b2e0170-511f-419f-a5d0-003fe1b5bcfb",
   "metadata": {},
   "outputs": [
    {
     "name": "stdout",
     "output_type": "stream",
     "text": [
      "Cloning into 'StableDiffusion-PyTorch'...\n",
      "remote: Enumerating objects: 119, done.\u001b[K\n",
      "remote: Counting objects: 100% (119/119), done.\u001b[K\n",
      "remote: Compressing objects: 100% (91/91), done.\u001b[K\n",
      "remote: Total 119 (delta 60), reused 67 (delta 24), pack-reused 0\u001b[K\n",
      "Receiving objects: 100% (119/119), 49.63 KiB | 1.34 MiB/s, done.\n",
      "Resolving deltas: 100% (60/60), done.\n"
     ]
    }
   ],
   "source": [
    "!git clone https://github.com/explainingai-code/StableDiffusion-PyTorch.git"
   ]
  },
  {
   "cell_type": "code",
   "execution_count": 14,
   "id": "e090627a-6539-4f1a-8ff7-ce808c05a0d5",
   "metadata": {},
   "outputs": [
    {
     "name": "stdout",
     "output_type": "stream",
     "text": [
      "/Users/abharian/LDM_Project/StableDiffusion-PyTorch\n"
     ]
    }
   ],
   "source": [
    "cd /Users/abharian/LDM_Project/StableDiffusion-PyTorch"
   ]
  },
  {
   "cell_type": "code",
   "execution_count": 15,
   "id": "a4edcad7-3db1-47e5-acd7-d495dc24eb5d",
   "metadata": {},
   "outputs": [
    {
     "name": "stdout",
     "output_type": "stream",
     "text": [
      "Requirement already satisfied: boto3==1.34.36 in /Users/abharian/.conda/envs/tensorflow/lib/python3.9/site-packages (from -r requirements.txt (line 1)) (1.34.36)\n",
      "Requirement already satisfied: botocore==1.34.36 in /Users/abharian/.conda/envs/tensorflow/lib/python3.9/site-packages (from -r requirements.txt (line 2)) (1.34.36)\n",
      "Requirement already satisfied: certifi==2023.7.22 in /Users/abharian/.conda/envs/tensorflow/lib/python3.9/site-packages (from -r requirements.txt (line 3)) (2023.7.22)\n",
      "Requirement already satisfied: charset-normalizer==3.2.0 in /Users/abharian/.conda/envs/tensorflow/lib/python3.9/site-packages (from -r requirements.txt (line 4)) (3.2.0)\n",
      "Requirement already satisfied: click==8.1.7 in /Users/abharian/.conda/envs/tensorflow/lib/python3.9/site-packages (from -r requirements.txt (line 5)) (8.1.7)\n",
      "Requirement already satisfied: contourpy==1.1.0 in /Users/abharian/.conda/envs/tensorflow/lib/python3.9/site-packages (from -r requirements.txt (line 6)) (1.1.0)\n",
      "Requirement already satisfied: cycler==0.11.0 in /Users/abharian/.conda/envs/tensorflow/lib/python3.9/site-packages (from -r requirements.txt (line 7)) (0.11.0)\n",
      "Requirement already satisfied: einops==0.6.1 in /Users/abharian/.conda/envs/tensorflow/lib/python3.9/site-packages (from -r requirements.txt (line 8)) (0.6.1)\n",
      "Requirement already satisfied: filelock==3.13.1 in /Users/abharian/.conda/envs/tensorflow/lib/python3.9/site-packages (from -r requirements.txt (line 9)) (3.13.1)\n",
      "Requirement already satisfied: fonttools==4.42.0 in /Users/abharian/.conda/envs/tensorflow/lib/python3.9/site-packages (from -r requirements.txt (line 10)) (4.42.0)\n",
      "Requirement already satisfied: fsspec==2024.2.0 in /Users/abharian/.conda/envs/tensorflow/lib/python3.9/site-packages (from -r requirements.txt (line 11)) (2024.2.0)\n",
      "Requirement already satisfied: ftfy==6.1.3 in /Users/abharian/.conda/envs/tensorflow/lib/python3.9/site-packages (from -r requirements.txt (line 12)) (6.1.3)\n",
      "Requirement already satisfied: huggingface-hub==0.20.3 in /Users/abharian/.conda/envs/tensorflow/lib/python3.9/site-packages (from -r requirements.txt (line 13)) (0.20.3)\n",
      "Requirement already satisfied: idna==3.4 in /Users/abharian/.conda/envs/tensorflow/lib/python3.9/site-packages (from -r requirements.txt (line 14)) (3.4)\n",
      "Requirement already satisfied: importlib-metadata==7.0.1 in /Users/abharian/.conda/envs/tensorflow/lib/python3.9/site-packages (from -r requirements.txt (line 15)) (7.0.1)\n",
      "Requirement already satisfied: importlib-resources==6.0.1 in /Users/abharian/.conda/envs/tensorflow/lib/python3.9/site-packages (from -r requirements.txt (line 16)) (6.0.1)\n",
      "Requirement already satisfied: jmespath==1.0.1 in /Users/abharian/.conda/envs/tensorflow/lib/python3.9/site-packages (from -r requirements.txt (line 17)) (1.0.1)\n",
      "Requirement already satisfied: joblib==1.3.2 in /Users/abharian/.conda/envs/tensorflow/lib/python3.9/site-packages (from -r requirements.txt (line 18)) (1.3.2)\n",
      "Requirement already satisfied: kiwisolver==1.4.4 in /Users/abharian/.conda/envs/tensorflow/lib/python3.9/site-packages (from -r requirements.txt (line 19)) (1.4.4)\n",
      "Requirement already satisfied: matplotlib==3.7.2 in /Users/abharian/.conda/envs/tensorflow/lib/python3.9/site-packages (from -r requirements.txt (line 20)) (3.7.2)\n",
      "Requirement already satisfied: numpy==1.23.5 in /Users/abharian/.conda/envs/tensorflow/lib/python3.9/site-packages (from -r requirements.txt (line 21)) (1.23.5)\n",
      "Requirement already satisfied: opencv-python==4.8.0.74 in /Users/abharian/.conda/envs/tensorflow/lib/python3.9/site-packages (from -r requirements.txt (line 22)) (4.8.0.74)\n",
      "Requirement already satisfied: packaging==23.1 in /Users/abharian/.conda/envs/tensorflow/lib/python3.9/site-packages (from -r requirements.txt (line 23)) (23.1)\n",
      "Requirement already satisfied: Pillow==10.0.0 in /Users/abharian/.conda/envs/tensorflow/lib/python3.9/site-packages (from -r requirements.txt (line 24)) (10.0.0)\n",
      "Requirement already satisfied: pyparsing==3.0.9 in /Users/abharian/.conda/envs/tensorflow/lib/python3.9/site-packages (from -r requirements.txt (line 25)) (3.0.9)\n",
      "Requirement already satisfied: python-dateutil==2.8.2 in /Users/abharian/.conda/envs/tensorflow/lib/python3.9/site-packages (from -r requirements.txt (line 26)) (2.8.2)\n",
      "Requirement already satisfied: PyYAML==6.0 in /Users/abharian/.conda/envs/tensorflow/lib/python3.9/site-packages (from -r requirements.txt (line 27)) (6.0)\n",
      "Requirement already satisfied: regex==2023.12.25 in /Users/abharian/.conda/envs/tensorflow/lib/python3.9/site-packages (from -r requirements.txt (line 28)) (2023.12.25)\n",
      "Requirement already satisfied: requests==2.31.0 in /Users/abharian/.conda/envs/tensorflow/lib/python3.9/site-packages (from -r requirements.txt (line 29)) (2.31.0)\n",
      "Requirement already satisfied: s3transfer==0.10.0 in /Users/abharian/.conda/envs/tensorflow/lib/python3.9/site-packages (from -r requirements.txt (line 30)) (0.10.0)\n",
      "Requirement already satisfied: sacremoses==0.1.1 in /Users/abharian/.conda/envs/tensorflow/lib/python3.9/site-packages (from -r requirements.txt (line 31)) (0.1.1)\n",
      "Requirement already satisfied: safetensors==0.4.2 in /Users/abharian/.conda/envs/tensorflow/lib/python3.9/site-packages (from -r requirements.txt (line 32)) (0.4.2)\n",
      "Requirement already satisfied: scipy==1.10.1 in /Users/abharian/.conda/envs/tensorflow/lib/python3.9/site-packages (from -r requirements.txt (line 33)) (1.10.1)\n",
      "Requirement already satisfied: sentencepiece==0.1.99 in /Users/abharian/.conda/envs/tensorflow/lib/python3.9/site-packages (from -r requirements.txt (line 34)) (0.1.99)\n",
      "Requirement already satisfied: six==1.16.0 in /Users/abharian/.conda/envs/tensorflow/lib/python3.9/site-packages (from -r requirements.txt (line 35)) (1.16.0)\n",
      "Requirement already satisfied: tokenizers==0.15.1 in /Users/abharian/.conda/envs/tensorflow/lib/python3.9/site-packages (from -r requirements.txt (line 36)) (0.15.1)\n",
      "Requirement already satisfied: torch==1.11.0 in /Users/abharian/.conda/envs/tensorflow/lib/python3.9/site-packages (from -r requirements.txt (line 37)) (1.11.0)\n",
      "Requirement already satisfied: torchvision==0.12.0 in /Users/abharian/.conda/envs/tensorflow/lib/python3.9/site-packages (from -r requirements.txt (line 38)) (0.12.0)\n",
      "Requirement already satisfied: tqdm==4.65.0 in /Users/abharian/.conda/envs/tensorflow/lib/python3.9/site-packages (from -r requirements.txt (line 39)) (4.65.0)\n",
      "Requirement already satisfied: transformers==4.37.2 in /Users/abharian/.conda/envs/tensorflow/lib/python3.9/site-packages (from -r requirements.txt (line 40)) (4.37.2)\n",
      "Requirement already satisfied: typing_extensions==4.7.1 in /Users/abharian/.conda/envs/tensorflow/lib/python3.9/site-packages (from -r requirements.txt (line 41)) (4.7.1)\n",
      "Requirement already satisfied: urllib3==1.26.18 in /Users/abharian/.conda/envs/tensorflow/lib/python3.9/site-packages (from -r requirements.txt (line 42)) (1.26.18)\n",
      "Requirement already satisfied: wcwidth==0.2.13 in /Users/abharian/.conda/envs/tensorflow/lib/python3.9/site-packages (from -r requirements.txt (line 43)) (0.2.13)\n",
      "Requirement already satisfied: zipp==3.16.2 in /Users/abharian/.conda/envs/tensorflow/lib/python3.9/site-packages (from -r requirements.txt (line 44)) (3.16.2)\n"
     ]
    }
   ],
   "source": [
    "!pip install -r requirements.txt"
   ]
  },
  {
   "cell_type": "code",
   "execution_count": 6,
   "id": "2b2d2a80-593d-4049-b702-bdddc44d64e3",
   "metadata": {},
   "outputs": [
    {
     "name": "stdout",
     "output_type": "stream",
     "text": [
      "Collecting wget\n",
      "  Using cached wget-3.2.zip (10 kB)\n",
      "  Preparing metadata (setup.py) ... \u001b[?25ldone\n",
      "\u001b[?25hBuilding wheels for collected packages: wget\n",
      "  Building wheel for wget (setup.py) ... \u001b[?25ldone\n",
      "\u001b[?25h  Created wheel for wget: filename=wget-3.2-py3-none-any.whl size=9655 sha256=966153f810c562cc4f3645506a6bb72878698fcb0a4766c80cef70b03ba17949\n",
      "  Stored in directory: /Users/abharian/.cache/pip/wheels/bd/a8/c3/3cf2c14a1837a4e04bd98631724e81f33f462d86a1d895fae0\n",
      "Successfully built wget\n",
      "Installing collected packages: wget\n",
      "Successfully installed wget-3.2\n"
     ]
    }
   ],
   "source": [
    "!pip install wget"
   ]
  },
  {
   "cell_type": "code",
   "execution_count": 16,
   "id": "9c5685e0-0c73-4e3d-99d6-c76e49f2e82b",
   "metadata": {},
   "outputs": [
    {
     "name": "stdout",
     "output_type": "stream",
     "text": [
      "Downloading LPIPS weights...\n",
      "\n",
      "LPIPS weights downloaded successfully!\n",
      "LPIPS weights saved to: /Users/abharian/LDM_Project/StableDiffusion-PyTorch/models/weights/v0.1/vgg.pth\n"
     ]
    }
   ],
   "source": [
    "import os\n",
    "import wget\n",
    "\n",
    "# Define the URLs\n",
    "lpips_weights_url = 'https://github.com/richzhang/PerceptualSimilarity/raw/master/lpips/weights/v0.1/vgg.pth'\n",
    "destination_directory = '/Users/abharian/LDM_Project/StableDiffusion-PyTorch/models/weights/v0.1/'\n",
    "destination_file = os.path.join(destination_directory, 'vgg.pth')\n",
    "\n",
    "# Create the destination directory if it doesn't exist\n",
    "#os.makedirs(destination_directory, exist_ok=True)\n",
    "\n",
    "# Download the weights file\n",
    "print(\"Downloading LPIPS weights...\")\n",
    "wget.download(lpips_weights_url, out=destination_file)\n",
    "print(\"\\nLPIPS weights downloaded successfully!\")\n",
    "\n",
    "# Check if the file exists in the destination directory\n",
    "if os.path.exists(destination_file):\n",
    "    print(f\"LPIPS weights saved to: {destination_file}\")\n",
    "else:\n",
    "    print(\"Error: Failed to download LPIPS weights.\")\n"
   ]
  },
  {
   "cell_type": "code",
   "execution_count": 17,
   "id": "0b9fbcb2-3852-4d58-acaf-d0536c344fec",
   "metadata": {},
   "outputs": [
    {
     "name": "stdout",
     "output_type": "stream",
     "text": [
      "{'dataset_params': {'im_path': '/Users/abharian/LDM_Project/StableDiffusion-PyTorch/data/mnist/train/images', 'im_channels': 3, 'im_size': 128, 'name': 'mnist'}, 'diffusion_params': {'num_timesteps': 1000, 'beta_start': 0.0015, 'beta_end': 0.0195}, 'ldm_params': {'down_channels': [128, 256, 256, 256], 'mid_channels': [256, 256], 'down_sample': [False, False, False], 'attn_down': [True, True, True], 'time_emb_dim': 256, 'norm_channels': 32, 'num_heads': 16, 'conv_out_channels': 128, 'num_down_layers': 2, 'num_mid_layers': 2, 'num_up_layers': 2, 'condition_config': {'condition_types': ['class'], 'class_condition_config': {'num_classes': 3, 'cond_drop_prob': 0.1}}}, 'autoencoder_params': {'z_channels': 3, 'codebook_size': 20, 'down_channels': [32, 64, 128], 'mid_channels': [128, 128], 'down_sample': [True, True], 'attn_down': [False, False], 'norm_channels': 32, 'num_heads': 16, 'num_down_layers': 1, 'num_mid_layers': 1, 'num_up_layers': 1}, 'train_params': {'seed': 1111, 'task_name': 'mnist', 'ldm_batch_size': 1, 'autoencoder_batch_size': 1, 'disc_start': 1000, 'disc_weight': 0.5, 'codebook_weight': 1, 'commitment_beta': 0.2, 'perceptual_weight': 1, 'kl_weight': 5e-06, 'ldm_epochs': 100, 'autoencoder_epochs': 50, 'num_samples': 25, 'num_grid_rows': 1, 'ldm_lr': 1e-05, 'autoencoder_lr': 0.0001, 'autoencoder_acc_steps': 1, 'autoencoder_img_save_steps': 8, 'save_latents': False, 'cf_guidance_scale': 1.0, 'vae_latent_dir_name': 'vae_latents', 'vqvae_latent_dir_name': 'vqvae_latents', 'ldm_ckpt_name': 'ddpm_ckpt_class_cond.pth', 'vqvae_autoencoder_ckpt_name': 'vqvae_autoencoder_ckpt.pth', 'vae_autoencoder_ckpt_name': 'vae_autoencoder_ckpt.pth', 'vqvae_discriminator_ckpt_name': 'vqvae_discriminator_ckpt.pth', 'vae_discriminator_ckpt_name': 'vae_discriminator_ckpt.pth'}}\n",
      "100%|███████████████████████████████████████████| 3/3 [00:00<00:00, 1640.75it/s]\n",
      "Found 0 images for split train\n",
      "Traceback (most recent call last):\n",
      "  File \"/Users/abharian/.conda/envs/tensorflow/lib/python3.9/runpy.py\", line 197, in _run_module_as_main\n",
      "    return _run_code(code, main_globals, None,\n",
      "  File \"/Users/abharian/.conda/envs/tensorflow/lib/python3.9/runpy.py\", line 87, in _run_code\n",
      "    exec(code, run_globals)\n",
      "  File \"/Users/abharian/LDM_Project/StableDiffusion-PyTorch/tools/train_vqvae.py\", line 204, in <module>\n",
      "    train(args)\n",
      "  File \"/Users/abharian/LDM_Project/StableDiffusion-PyTorch/tools/train_vqvae.py\", line 57, in train\n",
      "    data_loader = DataLoader(im_dataset,\n",
      "  File \"/Users/abharian/.conda/envs/tensorflow/lib/python3.9/site-packages/torch/utils/data/dataloader.py\", line 277, in __init__\n",
      "    sampler = RandomSampler(dataset, generator=generator)  # type: ignore[arg-type]\n",
      "  File \"/Users/abharian/.conda/envs/tensorflow/lib/python3.9/site-packages/torch/utils/data/sampler.py\", line 97, in __init__\n",
      "    raise ValueError(\"num_samples should be a positive integer \"\n",
      "ValueError: num_samples should be a positive integer value, but got num_samples=0\n"
     ]
    }
   ],
   "source": [
    "!python -m tools.train_vqvae --config /Users/abharian/LDM_Project/StableDiffusion-PyTorch/config/mnist_class_cond.yaml"
   ]
  },
  {
   "cell_type": "code",
   "execution_count": null,
   "id": "183a5a06",
   "metadata": {},
   "outputs": [],
   "source": [
    "#till"
   ]
  },
  {
   "cell_type": "code",
   "execution_count": 6,
   "id": "02d4fcef-10f0-4f2a-b792-0337a5ace625",
   "metadata": {},
   "outputs": [
    {
     "name": "stdout",
     "output_type": "stream",
     "text": [
      "{'dataset_params': {'im_path': '/Users/abharian/LDM_Project/StableDiffusion-PyTorch/data/mnist/train/images', 'im_channels': 3, 'im_size': 128, 'name': 'mnist'}, 'diffusion_params': {'num_timesteps': 1000, 'beta_start': 0.0015, 'beta_end': 0.0195}, 'ldm_params': {'down_channels': [128, 256, 256, 256], 'mid_channels': [256, 256], 'down_sample': [False, False, False], 'attn_down': [True, True, True], 'time_emb_dim': 256, 'norm_channels': 32, 'num_heads': 16, 'conv_out_channels': 128, 'num_down_layers': 2, 'num_mid_layers': 2, 'num_up_layers': 2, 'condition_config': {'condition_types': ['class'], 'class_condition_config': {'num_classes': 3, 'cond_drop_prob': 0.1}}}, 'autoencoder_params': {'z_channels': 3, 'codebook_size': 20, 'down_channels': [32, 64, 128], 'mid_channels': [128, 128], 'down_sample': [True, True], 'attn_down': [False, False], 'norm_channels': 32, 'num_heads': 16, 'num_down_layers': 1, 'num_mid_layers': 1, 'num_up_layers': 1}, 'train_params': {'seed': 1111, 'task_name': 'mnist', 'ldm_batch_size': 1, 'autoencoder_batch_size': 1, 'disc_start': 1000, 'disc_weight': 0.5, 'codebook_weight': 1, 'commitment_beta': 0.2, 'perceptual_weight': 1, 'kl_weight': 5e-06, 'ldm_epochs': 100, 'autoencoder_epochs': 50, 'num_samples': 25, 'num_grid_rows': 1, 'ldm_lr': 1e-05, 'autoencoder_lr': 0.0001, 'autoencoder_acc_steps': 1, 'autoencoder_img_save_steps': 8, 'save_latents': False, 'cf_guidance_scale': 1.0, 'vae_latent_dir_name': 'vae_latents', 'vqvae_latent_dir_name': 'vqvae_latents', 'ldm_ckpt_name': 'ddpm_ckpt_class_cond.pth', 'vqvae_autoencoder_ckpt_name': 'vqvae_autoencoder_ckpt.pth', 'vae_autoencoder_ckpt_name': 'vae_autoencoder_ckpt.pth', 'vqvae_discriminator_ckpt_name': 'vqvae_discriminator_ckpt.pth', 'vae_discriminator_ckpt_name': 'vae_discriminator_ckpt.pth'}}\n",
      "100%|████████████████████████████████████████████| 3/3 [00:00<00:00, 287.08it/s]\n",
      "Found 2175 images for split train\n",
      "Latents not found\n",
      "Loading vqvae model as latents not present\n",
      "Loaded vae checkpoint\n",
      "100%|███████████████████████████████████████| 2175/2175 [02:25<00:00, 14.95it/s]\n",
      "Finished epoch:1 | Loss : 0.2431\n",
      "100%|███████████████████████████████████████| 2175/2175 [02:25<00:00, 14.99it/s]\n",
      "Finished epoch:2 | Loss : 0.1416\n",
      "100%|███████████████████████████████████████| 2175/2175 [02:25<00:00, 14.95it/s]\n",
      "Finished epoch:3 | Loss : 0.1202\n",
      "100%|███████████████████████████████████████| 2175/2175 [02:27<00:00, 14.76it/s]\n",
      "Finished epoch:4 | Loss : 0.1084\n",
      "100%|███████████████████████████████████████| 2175/2175 [02:32<00:00, 14.25it/s]\n",
      "Finished epoch:5 | Loss : 0.1019\n",
      "100%|███████████████████████████████████████| 2175/2175 [02:36<00:00, 13.89it/s]\n",
      "Finished epoch:6 | Loss : 0.0968\n",
      "100%|███████████████████████████████████████| 2175/2175 [02:35<00:00, 13.98it/s]\n",
      "Finished epoch:7 | Loss : 0.0915\n",
      "100%|███████████████████████████████████████| 2175/2175 [02:37<00:00, 13.81it/s]\n",
      "Finished epoch:8 | Loss : 0.0838\n",
      "100%|███████████████████████████████████████| 2175/2175 [02:28<00:00, 14.65it/s]\n",
      "Finished epoch:9 | Loss : 0.0881\n",
      "100%|███████████████████████████████████████| 2175/2175 [02:31<00:00, 14.40it/s]\n",
      "Finished epoch:10 | Loss : 0.0838\n",
      "100%|███████████████████████████████████████| 2175/2175 [02:34<00:00, 14.11it/s]\n",
      "Finished epoch:11 | Loss : 0.0848\n",
      "100%|███████████████████████████████████████| 2175/2175 [02:31<00:00, 14.37it/s]\n",
      "Finished epoch:12 | Loss : 0.0816\n",
      "100%|███████████████████████████████████████| 2175/2175 [02:28<00:00, 14.64it/s]\n",
      "Finished epoch:13 | Loss : 0.0827\n",
      "100%|███████████████████████████████████████| 2175/2175 [02:28<00:00, 14.65it/s]\n",
      "Finished epoch:14 | Loss : 0.0811\n",
      "100%|███████████████████████████████████████| 2175/2175 [02:29<00:00, 14.60it/s]\n",
      "Finished epoch:15 | Loss : 0.0780\n",
      "100%|███████████████████████████████████████| 2175/2175 [02:28<00:00, 14.69it/s]\n",
      "Finished epoch:16 | Loss : 0.0780\n",
      "100%|███████████████████████████████████████| 2175/2175 [02:28<00:00, 14.67it/s]\n",
      "Finished epoch:17 | Loss : 0.0785\n",
      "100%|███████████████████████████████████████| 2175/2175 [02:28<00:00, 14.62it/s]\n",
      "Finished epoch:18 | Loss : 0.0777\n",
      "100%|███████████████████████████████████████| 2175/2175 [02:30<00:00, 14.44it/s]\n",
      "Finished epoch:19 | Loss : 0.0783\n",
      "100%|███████████████████████████████████████| 2175/2175 [02:28<00:00, 14.68it/s]\n",
      "Finished epoch:20 | Loss : 0.0772\n",
      "100%|███████████████████████████████████████| 2175/2175 [02:28<00:00, 14.64it/s]\n",
      "Finished epoch:21 | Loss : 0.0750\n",
      "100%|███████████████████████████████████████| 2175/2175 [02:27<00:00, 14.71it/s]\n",
      "Finished epoch:22 | Loss : 0.0755\n",
      "100%|███████████████████████████████████████| 2175/2175 [02:28<00:00, 14.67it/s]\n",
      "Finished epoch:23 | Loss : 0.0740\n",
      "100%|███████████████████████████████████████| 2175/2175 [02:27<00:00, 14.70it/s]\n",
      "Finished epoch:24 | Loss : 0.0734\n",
      "100%|███████████████████████████████████████| 2175/2175 [02:26<00:00, 14.80it/s]\n",
      "Finished epoch:25 | Loss : 0.0747\n",
      "100%|███████████████████████████████████████| 2175/2175 [02:26<00:00, 14.89it/s]\n",
      "Finished epoch:26 | Loss : 0.0731\n",
      "100%|███████████████████████████████████████| 2175/2175 [02:26<00:00, 14.85it/s]\n",
      "Finished epoch:27 | Loss : 0.0729\n",
      "100%|███████████████████████████████████████| 2175/2175 [02:27<00:00, 14.78it/s]\n",
      "Finished epoch:28 | Loss : 0.0718\n",
      "100%|███████████████████████████████████████| 2175/2175 [02:27<00:00, 14.71it/s]\n",
      "Finished epoch:29 | Loss : 0.0716\n",
      "100%|███████████████████████████████████████| 2175/2175 [02:27<00:00, 14.75it/s]\n",
      "Finished epoch:30 | Loss : 0.0715\n",
      "100%|███████████████████████████████████████| 2175/2175 [02:26<00:00, 14.83it/s]\n",
      "Finished epoch:31 | Loss : 0.0704\n",
      "100%|███████████████████████████████████████| 2175/2175 [02:26<00:00, 14.88it/s]\n",
      "Finished epoch:32 | Loss : 0.0699\n",
      "100%|███████████████████████████████████████| 2175/2175 [02:26<00:00, 14.82it/s]\n",
      "Finished epoch:33 | Loss : 0.0687\n",
      "100%|███████████████████████████████████████| 2175/2175 [02:26<00:00, 14.83it/s]\n",
      "Finished epoch:34 | Loss : 0.0706\n",
      "100%|███████████████████████████████████████| 2175/2175 [02:27<00:00, 14.78it/s]\n",
      "Finished epoch:35 | Loss : 0.0689\n",
      "100%|███████████████████████████████████████| 2175/2175 [02:26<00:00, 14.88it/s]\n",
      "Finished epoch:36 | Loss : 0.0666\n",
      "100%|███████████████████████████████████████| 2175/2175 [02:26<00:00, 14.88it/s]\n",
      "Finished epoch:37 | Loss : 0.0693\n",
      "100%|███████████████████████████████████████| 2175/2175 [02:26<00:00, 14.84it/s]\n",
      "Finished epoch:38 | Loss : 0.0681\n",
      "100%|███████████████████████████████████████| 2175/2175 [02:26<00:00, 14.87it/s]\n",
      "Finished epoch:39 | Loss : 0.0690\n",
      "100%|███████████████████████████████████████| 2175/2175 [02:26<00:00, 14.83it/s]\n",
      "Finished epoch:40 | Loss : 0.0693\n",
      "100%|███████████████████████████████████████| 2175/2175 [02:26<00:00, 14.80it/s]\n",
      "Finished epoch:41 | Loss : 0.0673\n",
      "100%|███████████████████████████████████████| 2175/2175 [02:26<00:00, 14.84it/s]\n",
      "Finished epoch:42 | Loss : 0.0676\n",
      "100%|███████████████████████████████████████| 2175/2175 [02:27<00:00, 14.72it/s]\n",
      "Finished epoch:43 | Loss : 0.0682\n",
      "100%|███████████████████████████████████████| 2175/2175 [02:27<00:00, 14.79it/s]\n",
      "Finished epoch:44 | Loss : 0.0646\n",
      "100%|███████████████████████████████████████| 2175/2175 [02:26<00:00, 14.80it/s]\n",
      "Finished epoch:45 | Loss : 0.0646\n",
      "100%|███████████████████████████████████████| 2175/2175 [02:28<00:00, 14.63it/s]\n",
      "Finished epoch:46 | Loss : 0.0648\n",
      "100%|███████████████████████████████████████| 2175/2175 [02:30<00:00, 14.45it/s]\n",
      "Finished epoch:47 | Loss : 0.0653\n",
      "100%|███████████████████████████████████████| 2175/2175 [02:30<00:00, 14.44it/s]\n",
      "Finished epoch:48 | Loss : 0.0622\n",
      "100%|███████████████████████████████████████| 2175/2175 [02:30<00:00, 14.47it/s]\n",
      "Finished epoch:49 | Loss : 0.0625\n",
      "100%|███████████████████████████████████████| 2175/2175 [02:30<00:00, 14.48it/s]\n",
      "Finished epoch:50 | Loss : 0.0634\n",
      "100%|███████████████████████████████████████| 2175/2175 [02:31<00:00, 14.33it/s]\n",
      "Finished epoch:51 | Loss : 0.0631\n",
      "100%|███████████████████████████████████████| 2175/2175 [02:31<00:00, 14.40it/s]\n",
      "Finished epoch:52 | Loss : 0.0622\n",
      "100%|███████████████████████████████████████| 2175/2175 [02:32<00:00, 14.24it/s]\n",
      "Finished epoch:53 | Loss : 0.0611\n",
      "100%|███████████████████████████████████████| 2175/2175 [02:35<00:00, 13.97it/s]\n",
      "Finished epoch:54 | Loss : 0.0628\n"
     ]
    },
    {
     "name": "stdout",
     "output_type": "stream",
     "text": [
      "100%|███████████████████████████████████████| 2175/2175 [02:31<00:00, 14.31it/s]\n",
      "Finished epoch:55 | Loss : 0.0604\n",
      "100%|███████████████████████████████████████| 2175/2175 [02:33<00:00, 14.16it/s]\n",
      "Finished epoch:56 | Loss : 0.0605\n",
      "100%|███████████████████████████████████████| 2175/2175 [02:29<00:00, 14.51it/s]\n",
      "Finished epoch:57 | Loss : 0.0620\n",
      "100%|███████████████████████████████████████| 2175/2175 [02:32<00:00, 14.30it/s]\n",
      "Finished epoch:58 | Loss : 0.0596\n",
      "100%|███████████████████████████████████████| 2175/2175 [02:34<00:00, 14.12it/s]\n",
      "Finished epoch:59 | Loss : 0.0600\n",
      "100%|███████████████████████████████████████| 2175/2175 [02:31<00:00, 14.32it/s]\n",
      "Finished epoch:60 | Loss : 0.0602\n",
      "100%|███████████████████████████████████████| 2175/2175 [02:29<00:00, 14.52it/s]\n",
      "Finished epoch:61 | Loss : 0.0596\n",
      "100%|███████████████████████████████████████| 2175/2175 [02:27<00:00, 14.76it/s]\n",
      "Finished epoch:62 | Loss : 0.0613\n",
      "100%|███████████████████████████████████████| 2175/2175 [02:27<00:00, 14.79it/s]\n",
      "Finished epoch:63 | Loss : 0.0605\n",
      "100%|███████████████████████████████████████| 2175/2175 [02:30<00:00, 14.46it/s]\n",
      "Finished epoch:64 | Loss : 0.0599\n",
      "100%|███████████████████████████████████████| 2175/2175 [02:27<00:00, 14.76it/s]\n",
      "Finished epoch:65 | Loss : 0.0588\n",
      "100%|███████████████████████████████████████| 2175/2175 [02:26<00:00, 14.84it/s]\n",
      "Finished epoch:66 | Loss : 0.0581\n",
      "100%|███████████████████████████████████████| 2175/2175 [02:27<00:00, 14.74it/s]\n",
      "Finished epoch:67 | Loss : 0.0598\n",
      "100%|███████████████████████████████████████| 2175/2175 [02:26<00:00, 14.86it/s]\n",
      "Finished epoch:68 | Loss : 0.0601\n",
      "100%|███████████████████████████████████████| 2175/2175 [02:26<00:00, 14.81it/s]\n",
      "Finished epoch:69 | Loss : 0.0575\n",
      "100%|███████████████████████████████████████| 2175/2175 [02:29<00:00, 14.55it/s]\n",
      "Finished epoch:70 | Loss : 0.0577\n",
      "100%|███████████████████████████████████████| 2175/2175 [02:40<00:00, 13.58it/s]\n",
      "Finished epoch:71 | Loss : 0.0571\n",
      "100%|███████████████████████████████████████| 2175/2175 [02:28<00:00, 14.69it/s]\n",
      "Finished epoch:72 | Loss : 0.0576\n",
      "100%|███████████████████████████████████████| 2175/2175 [02:28<00:00, 14.69it/s]\n",
      "Finished epoch:73 | Loss : 0.0572\n",
      "100%|███████████████████████████████████████| 2175/2175 [02:28<00:00, 14.65it/s]\n",
      "Finished epoch:74 | Loss : 0.0603\n",
      "100%|███████████████████████████████████████| 2175/2175 [02:27<00:00, 14.77it/s]\n",
      "Finished epoch:75 | Loss : 0.0566\n",
      "100%|███████████████████████████████████████| 2175/2175 [02:32<00:00, 14.22it/s]\n",
      "Finished epoch:76 | Loss : 0.0574\n",
      "100%|███████████████████████████████████████| 2175/2175 [02:28<00:00, 14.66it/s]\n",
      "Finished epoch:77 | Loss : 0.0564\n",
      "100%|███████████████████████████████████████| 2175/2175 [02:33<00:00, 14.16it/s]\n",
      "Finished epoch:78 | Loss : 0.0573\n",
      "100%|███████████████████████████████████████| 2175/2175 [02:41<00:00, 13.51it/s]\n",
      "Finished epoch:79 | Loss : 0.0568\n",
      "100%|███████████████████████████████████████| 2175/2175 [02:30<00:00, 14.44it/s]\n",
      "Finished epoch:80 | Loss : 0.0563\n",
      "100%|███████████████████████████████████████| 2175/2175 [02:34<00:00, 14.06it/s]\n",
      "Finished epoch:81 | Loss : 0.0561\n",
      "100%|███████████████████████████████████████| 2175/2175 [02:34<00:00, 14.08it/s]\n",
      "Finished epoch:82 | Loss : 0.0569\n",
      "100%|███████████████████████████████████████| 2175/2175 [02:37<00:00, 13.81it/s]\n",
      "Finished epoch:83 | Loss : 0.0568\n",
      "100%|███████████████████████████████████████| 2175/2175 [02:37<00:00, 13.85it/s]\n",
      "Finished epoch:84 | Loss : 0.0575\n",
      "100%|███████████████████████████████████████| 2175/2175 [02:27<00:00, 14.74it/s]\n",
      "Finished epoch:85 | Loss : 0.0577\n",
      "100%|███████████████████████████████████████| 2175/2175 [02:30<00:00, 14.45it/s]\n",
      "Finished epoch:86 | Loss : 0.0555\n",
      "100%|███████████████████████████████████████| 2175/2175 [02:27<00:00, 14.76it/s]\n",
      "Finished epoch:87 | Loss : 0.0556\n",
      "100%|███████████████████████████████████████| 2175/2175 [02:30<00:00, 14.42it/s]\n",
      "Finished epoch:88 | Loss : 0.0575\n",
      "100%|███████████████████████████████████████| 2175/2175 [02:26<00:00, 14.85it/s]\n",
      "Finished epoch:89 | Loss : 0.0560\n",
      "100%|███████████████████████████████████████| 2175/2175 [02:26<00:00, 14.87it/s]\n",
      "Finished epoch:90 | Loss : 0.0570\n",
      "100%|███████████████████████████████████████| 2175/2175 [02:26<00:00, 14.82it/s]\n",
      "Finished epoch:91 | Loss : 0.0557\n",
      "100%|███████████████████████████████████████| 2175/2175 [02:27<00:00, 14.74it/s]\n",
      "Finished epoch:92 | Loss : 0.0557\n",
      "100%|███████████████████████████████████████| 2175/2175 [02:28<00:00, 14.68it/s]\n",
      "Finished epoch:93 | Loss : 0.0541\n",
      "100%|███████████████████████████████████████| 2175/2175 [02:27<00:00, 14.79it/s]\n",
      "Finished epoch:94 | Loss : 0.0551\n",
      "100%|███████████████████████████████████████| 2175/2175 [02:27<00:00, 14.72it/s]\n",
      "Finished epoch:95 | Loss : 0.0559\n",
      "100%|███████████████████████████████████████| 2175/2175 [02:27<00:00, 14.77it/s]\n",
      "Finished epoch:96 | Loss : 0.0557\n",
      "100%|███████████████████████████████████████| 2175/2175 [02:31<00:00, 14.35it/s]\n",
      "Finished epoch:97 | Loss : 0.0556\n",
      "100%|███████████████████████████████████████| 2175/2175 [02:27<00:00, 14.77it/s]\n",
      "Finished epoch:98 | Loss : 0.0555\n",
      "100%|███████████████████████████████████████| 2175/2175 [02:25<00:00, 14.90it/s]\n",
      "Finished epoch:99 | Loss : 0.0558\n",
      "100%|███████████████████████████████████████| 2175/2175 [02:26<00:00, 14.89it/s]\n",
      "Finished epoch:100 | Loss : 0.0554\n",
      "Done Training ...\n"
     ]
    }
   ],
   "source": [
    "!python -m tools.train_ddpm_cond --config /Users/abharian/LDM_Project/StableDiffusion-PyTorch/config/mnist_class_cond.yaml"
   ]
  },
  {
   "cell_type": "code",
   "execution_count": null,
   "id": "70552320",
   "metadata": {},
   "outputs": [],
   "source": [
    "#till2"
   ]
  },
  {
   "cell_type": "code",
   "execution_count": 11,
   "id": "07d356bb-fc7c-4a83-ac42-049096b47bda",
   "metadata": {
    "scrolled": true
   },
   "outputs": [
    {
     "name": "stdout",
     "output_type": "stream",
     "text": [
      "{'dataset_params': {'im_path': '/Users/abharian/LDM_Project/StableDiffusion-PyTorch/data/mnist/train/images', 'im_channels': 3, 'im_size': 128, 'name': 'mnist'}, 'diffusion_params': {'num_timesteps': 1000, 'beta_start': 0.0015, 'beta_end': 0.0195}, 'ldm_params': {'down_channels': [128, 256, 256, 256], 'mid_channels': [256, 256], 'down_sample': [False, False, False], 'attn_down': [True, True, True], 'time_emb_dim': 256, 'norm_channels': 32, 'num_heads': 16, 'conv_out_channels': 128, 'num_down_layers': 2, 'num_mid_layers': 2, 'num_up_layers': 2, 'condition_config': {'condition_types': ['class'], 'class_condition_config': {'num_classes': 3, 'cond_drop_prob': 0.1}}}, 'autoencoder_params': {'z_channels': 3, 'codebook_size': 20, 'down_channels': [32, 64, 128], 'mid_channels': [128, 128], 'down_sample': [True, True], 'attn_down': [False, False], 'norm_channels': 32, 'num_heads': 16, 'num_down_layers': 1, 'num_mid_layers': 1, 'num_up_layers': 1}, 'train_params': {'seed': 1111, 'task_name': 'mnist', 'ldm_batch_size': 1, 'autoencoder_batch_size': 1, 'disc_start': 1000, 'disc_weight': 0.5, 'codebook_weight': 1, 'commitment_beta': 0.2, 'perceptual_weight': 1, 'kl_weight': 5e-06, 'ldm_epochs': 100, 'autoencoder_epochs': 50, 'num_samples': 25, 'num_grid_rows': 1, 'ldm_lr': 1e-05, 'autoencoder_lr': 0.0001, 'autoencoder_acc_steps': 1, 'autoencoder_img_save_steps': 8, 'save_latents': False, 'cf_guidance_scale': 1.0, 'vae_latent_dir_name': 'vae_latents', 'vqvae_latent_dir_name': 'vqvae_latents', 'ldm_ckpt_name': 'ddpm_ckpt_class_cond.pth', 'vqvae_autoencoder_ckpt_name': 'vqvae_autoencoder_ckpt.pth', 'vae_autoencoder_ckpt_name': 'vae_autoencoder_ckpt.pth', 'vqvae_discriminator_ckpt_name': 'vqvae_discriminator_ckpt.pth', 'vae_discriminator_ckpt_name': 'vae_discriminator_ckpt.pth'}}\n",
      "Loaded unet checkpoint\n",
      "Loaded vae checkpoint\n",
      "Generating images for [2, 2, 0, 0, 0, 0, 2, 1, 2, 1, 0, 0, 2, 2, 0, 1, 1, 2, 1, 2, 0, 1, 0, 2, 0]\n",
      "1000it [05:31,  3.02it/s]\n"
     ]
    }
   ],
   "source": [
    "!python -m tools.sample_ddpm_class_cond --config /Users/abharian/LDM_Project/StableDiffusion-PyTorch/config/mnist_class_cond.yaml"
   ]
  },
  {
   "cell_type": "code",
   "execution_count": null,
   "id": "e751ba13-bf5f-4b2b-8f6f-9425ac0a1294",
   "metadata": {},
   "outputs": [],
   "source": []
  },
  {
   "cell_type": "code",
   "execution_count": 22,
   "id": "7e26496b-d487-4a70-a008-faa64e01e984",
   "metadata": {},
   "outputs": [
    {
     "name": "stdout",
     "output_type": "stream",
     "text": [
      "Resizing complete. Resized images are saved in the 'resized_images' folder.\n"
     ]
    }
   ],
   "source": [
    "from PIL import Image\n",
    "import os \n",
    "\n",
    "# Folder paths\n",
    "input_folder = \"/Users/abharian/train/2/\"\n",
    "output_folder = \"/Users/abharian/LDM_Project/StableDiffusion-PyTorch/data/mnist/train/images/2/\"\n",
    "\n",
    "# Create the output folder if it doesn't exist\n",
    "if not os.path.exists(output_folder):\n",
    "    os.makedirs(output_folder)\n",
    "\n",
    "# Desired dimensions for resized images (width, height)\n",
    "new_size = (28, 28)  # Adjust these values to your desired dimensions\n",
    "\n",
    "# Iterate through all image files in the input folder\n",
    "for filename in os.listdir(input_folder):\n",
    "    if filename.endswith((\".jpg\", \".jpeg\", \".png\", \".gif\")):\n",
    "        # Open the image\n",
    "        input_path = os.path.join(input_folder, filename)\n",
    "        image = Image.open(input_path).convert(\"RGB\")  # Open as RGB\n",
    "        \n",
    "        # Resize the image\n",
    "        resized_image = image.resize(new_size)\n",
    "\n",
    "        # Save the resized image in the output folder\n",
    "        output_path = os.path.join(output_folder, filename)\n",
    "        resized_image.save(output_path)\n",
    "\n",
    "print(\"Resizing complete. Resized images are saved in the 'resized_images' folder.\")\n"
   ]
  },
  {
   "cell_type": "code",
   "execution_count": 34,
   "id": "7e3aa848-cea2-47a7-b548-694161a907c0",
   "metadata": {},
   "outputs": [
    {
     "name": "stdout",
     "output_type": "stream",
     "text": [
      "Python 3.8.19\n"
     ]
    }
   ],
   "source": [
    "!python --version"
   ]
  },
  {
   "cell_type": "code",
   "execution_count": null,
   "id": "7a7a342f-ce8a-4f6b-9d3a-ffd95aa8bc46",
   "metadata": {},
   "outputs": [],
   "source": []
  }
 ],
 "metadata": {
  "kernelspec": {
   "display_name": "Python 3 (ipykernel)",
   "language": "python",
   "name": "python3"
  },
  "language_info": {
   "codemirror_mode": {
    "name": "ipython",
    "version": 3
   },
   "file_extension": ".py",
   "mimetype": "text/x-python",
   "name": "python",
   "nbconvert_exporter": "python",
   "pygments_lexer": "ipython3",
   "version": "3.9.19"
  }
 },
 "nbformat": 4,
 "nbformat_minor": 5
}
